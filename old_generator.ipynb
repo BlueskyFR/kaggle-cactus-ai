{
 "cells": [
  {
   "cell_type": "markdown",
   "metadata": {},
   "source": [
    "### Load libraries"
   ]
  },
  {
   "cell_type": "code",
   "execution_count": null,
   "metadata": {},
   "outputs": [],
   "source": [
    "from datetime import datetime\n",
    "import numpy as np\n",
    "import pandas as pd\n",
    "import PIL\n",
    "import PIL.Image\n",
    "import tensorflow as tf\n",
    "# from tensorflow.data import Dataset\n",
    "from tensorflow._api.v2.data import Dataset\n",
    "from tensorflow.keras import *\n",
    "from tensorflow.keras.layers import *\n",
    "\n",
    "print(f\"Using Tensorflow {tf.__version__}\")\n",
    "\n",
    "import pathlib\n",
    "import matplotlib.pyplot as plt\n",
    "plt.style.use('dark_background')\n",
    "\n",
    "# TensorFlow configuration\n",
    "physical_devices = tf.config.list_physical_devices('GPU')\n",
    "print(physical_devices)\n",
    "tf.config.experimental.set_memory_growth(physical_devices[0], True)\n",
    "\n",
    "# Import TensorDash\n",
    "# from tensordash.tensordash import Tensordash\n",
    "\n",
    "# Load the TensorBoard notebook extension\n",
    "%load_ext tensorboard\n",
    "log_dir = \"logs/\" + \"bc=64\"\n",
    "tf.debugging.experimental.enable_dump_debug_info(log_dir, tensor_debug_mode=\"FULL_HEALTH\", circular_buffer_size=-1)"
   ]
  },
  {
   "cell_type": "markdown",
   "metadata": {},
   "source": [
    "### Load the dataset"
   ]
  },
  {
   "cell_type": "code",
   "execution_count": null,
   "metadata": {
    "pycharm": {
     "name": "#%%\n"
    }
   },
   "outputs": [],
   "source": [
    "data_dir = pathlib.Path(\"data/train\")\n",
    "print(f\"{len(list(data_dir.glob('*.jpg')))} images found!\")"
   ]
  },
  {
   "cell_type": "markdown",
   "metadata": {
    "collapsed": false
   },
   "source": [
    "### Load csv file"
   ]
  },
  {
   "cell_type": "code",
   "execution_count": null,
   "metadata": {
    "collapsed": false,
    "pycharm": {
     "name": "#%%\n"
    }
   },
   "outputs": [],
   "source": [
    "batch_size = 64\n",
    "images_shapes = (32, 32)\n",
    "# class_names = { 0: \"no_cactus\", 1: \"cactus\" }\n",
    "class_names = [ \"no_cactus\", \"cactus\" ]\n",
    "\n",
    "images_csv = pd.read_csv(\"data/train.csv\")\n",
    "# Cast \"has_cactus\" column to string, as required by flow_from_dataframe\n",
    "# images_csv[\"has_cactus\"] = images_csv[\"has_cactus\"].astype(\"str\")\n",
    "images_csv = images_csv.replace({ \"has_cactus\": { i: class_names[i] for i in range(len(class_names)) } })\n",
    "print(images_csv.head())"
   ]
  },
  {
   "cell_type": "markdown",
   "metadata": {
    "collapsed": false,
    "pycharm": {
     "name": "#%% md\n"
    }
   },
   "source": [
    "### TensorDash init"
   ]
  },
  {
   "cell_type": "code",
   "execution_count": null,
   "metadata": {
    "collapsed": false,
    "pycharm": {
     "name": "#%%\n"
    }
   },
   "outputs": [],
   "source": [
    "# histories = Tensordash(\n",
    "#     ModelName=f\"Cactus (bc={batch_size}, no MaxPooling)\",\n",
    "#     email=\"hugo.cartigny@gmail.com\",\n",
    "#     password=\"jaimelescactus\"\n",
    "# )"
   ]
  },
  {
   "cell_type": "markdown",
   "metadata": {
    "collapsed": false
   },
   "source": [
    "### Check data repartition"
   ]
  },
  {
   "cell_type": "code",
   "execution_count": null,
   "metadata": {
    "collapsed": false,
    "pycharm": {
     "name": "#%%\n"
    }
   },
   "outputs": [],
   "source": [
    "# samples has to be a Pandas series (single column)\n",
    "def get_weights(class_names, samples) :\n",
    "    sample_count = samples.size\n",
    "    class_count = len(class_names)\n",
    "\n",
    "    classes_repartition = samples.value_counts()\n",
    "    # Plot the repartition\n",
    "    classes_repartition.plot.bar()\n",
    "\n",
    "    return {\n",
    "        i: sample_count / (classes_repartition[class_name] * class_count)\n",
    "        for i, class_name in enumerate(class_names)\n",
    "    }\n",
    "\n",
    "# Compute classes weights based on their proportion in the dataset\n",
    "weights = get_weights(class_names, images_csv[\"has_cactus\"])\n",
    "print(weights)"
   ]
  },
  {
   "cell_type": "markdown",
   "metadata": {
    "collapsed": false,
    "pycharm": {
     "name": "#%% md\n"
    }
   },
   "source": [
    "### Preprocess the data"
   ]
  },
  {
   "cell_type": "code",
   "execution_count": null,
   "metadata": {
    "collapsed": false,
    "pycharm": {
     "name": "#%%\n"
    }
   },
   "outputs": [],
   "source": [
    "datagen = preprocessing.image.ImageDataGenerator(\n",
    "    rescale=1. / 255,\n",
    "    validation_split=0.2,\n",
    "    rotation_range=40,\n",
    "    width_shift_range=0.2,\n",
    "    height_shift_range=0.2,\n",
    "    shear_range=0.2,\n",
    "    zoom_range=0.2,\n",
    "    horizontal_flip=True,\n",
    "    fill_mode=\"nearest\",\n",
    "\n",
    "    samplewise_center=True,\n",
    "    samplewise_std_normalization=True\n",
    ")\n",
    "def get_generator(subset):\n",
    "    generator = datagen.flow_from_dataframe(\n",
    "        dataframe=images_csv,\n",
    "        directory=\"data/train/\",\n",
    "        x_col=\"id\",\n",
    "        y_col=\"has_cactus\",\n",
    "        subset=subset,\n",
    "        batch_size=batch_size,\n",
    "        #seed=123,\n",
    "        shuffle=True, # Default value\n",
    "        class_mode=\"categorical\",\n",
    "        target_size=images_shapes # All images should already be in 32x32\n",
    "    )\n",
    "    return (lambda : generator), generator.__len__()\n",
    "\n",
    "def get_dataset(subset):\n",
    "    gen, gen_len = get_generator(subset)\n",
    "    print(next(gen())[0].shape)\n",
    "    return \\\n",
    "        Dataset.from_generator(\n",
    "            gen,\n",
    "            output_signature=(\n",
    "                tf.TensorSpec(shape=(None, *images_shapes, 3), dtype=tf.float32),\n",
    "                tf.TensorSpec(shape=(None,2), dtype=tf.float32)\n",
    "            )\n",
    "        ), \\\n",
    "        gen_len"
   ]
  },
  {
   "cell_type": "code",
   "execution_count": null,
   "metadata": {
    "collapsed": false,
    "pycharm": {
     "name": "#%%\n"
    }
   },
   "outputs": [],
   "source": [
    "train_ds, train_ds_steps = get_dataset(\"training\")\n",
    "val_ds, val_ds_steps = get_dataset(\"validation\")"
   ]
  },
  {
   "cell_type": "code",
   "execution_count": null,
   "metadata": {
    "collapsed": false,
    "pycharm": {
     "name": "#%%\n"
    }
   },
   "outputs": [],
   "source": [
    "print(train_ds.element_spec)"
   ]
  },
  {
   "cell_type": "markdown",
   "metadata": {
    "collapsed": false,
    "pycharm": {
     "name": "#%% md\n"
    }
   },
   "source": [
    "### Preview the images"
   ]
  },
  {
   "cell_type": "code",
   "execution_count": null,
   "metadata": {
    "collapsed": false,
    "pycharm": {
     "name": "#%%\n"
    }
   },
   "outputs": [],
   "source": [
    "plt.figure(figsize=(10, 10))\n",
    "for images, labels in train_ds.take(1):\n",
    "    for i in range(9):\n",
    "        ax = plt.subplot(3, 3, i + 1)\n",
    "        plt.imshow(images[i].numpy().astype(np.float32))\n",
    "        # plt.title(\"Cactus\" if labels[i] == 1. else \"Not a cactus\")\n",
    "        plt.title(class_names[labels[i][0] == 1])\n",
    "        plt.axis(\"off\")"
   ]
  },
  {
   "cell_type": "code",
   "execution_count": null,
   "metadata": {
    "collapsed": false,
    "pycharm": {
     "name": "#%%\n"
    }
   },
   "outputs": [],
   "source": [
    "for image_batch, labels_batch in train_ds.take(1):\n",
    "  print(image_batch.shape)\n",
    "  print(labels_batch.shape)"
   ]
  },
  {
   "cell_type": "markdown",
   "metadata": {
    "collapsed": false,
    "pycharm": {
     "name": "#%% md\n"
    }
   },
   "source": [
    "### Configure the dataset for performance (cache + prefetch)"
   ]
  },
  {
   "cell_type": "code",
   "execution_count": null,
   "metadata": {
    "collapsed": false,
    "pycharm": {
     "name": "#%%\n"
    }
   },
   "outputs": [],
   "source": [
    "AUTOTUNE = tf.data.AUTOTUNE\n",
    "\n",
    "# train_ds = train_ds.cache().prefetch(buffer_size=AUTOTUNE)\n",
    "# val_ds = val_ds.cac.cache().prefetch(buffer_size=AUTOTUNE)\n",
    "train_ds = train_ds.prefetch(buffer_size=AUTOTUNE)\n",
    "val_ds = val_ds.prefetch(buffer_size=AUTOTUNE)\n",
    "\n",
    "for image_batch, labels_batch in train_ds.take(1):\n",
    "  print(image_batch.shape)\n",
    "  print(labels_batch.shape)\n",
    "\n",
    "print(tf.data.experimental.cardinality(train_ds))"
   ]
  },
  {
   "cell_type": "markdown",
   "metadata": {
    "collapsed": false,
    "pycharm": {
     "name": "#%% md\n"
    }
   },
   "source": [
    "### Define the model"
   ]
  },
  {
   "cell_type": "code",
   "execution_count": null,
   "metadata": {
    "collapsed": false,
    "pycharm": {
     "name": "#%%\n"
    }
   },
   "outputs": [],
   "source": [
    "model = Sequential([\n",
    "    Conv2D(16, 3, activation=\"relu\", padding=\"same\", input_shape=(*images_shapes, 3)),\n",
    "    Conv2D(16, 3, activation=\"relu\", padding=\"same\"),\n",
    "    BatchNormalization(),\n",
    "    # MaxPooling2D(strides=2),\n",
    "    Conv2D(32, 3, activation=\"relu\", padding=\"same\"),\n",
    "    Dropout(0.2),\n",
    "    Conv2D(64, 5, activation=\"relu\", padding=\"same\"),\n",
    "    BatchNormalization(),\n",
    "    Dropout(0.2),\n",
    "    Flatten(),\n",
    "    Dense(512, activation=\"relu\"),\n",
    "    Dropout(0.2),\n",
    "    Dense(256, activation=\"relu\"),\n",
    "    Dense(2, activation=\"softmax\")\n",
    "])\n",
    "\n",
    "model.summary()"
   ]
  },
  {
   "cell_type": "markdown",
   "metadata": {
    "collapsed": false,
    "pycharm": {
     "name": "#%% md\n"
    }
   },
   "source": [
    "### Create callback\n",
    "\n",
    "#### ReduceLROnPlateau\n",
    "\n",
    "Reduces learning rate when a metric has stopped improving."
   ]
  },
  {
   "cell_type": "code",
   "execution_count": null,
   "metadata": {
    "collapsed": false,
    "pycharm": {
     "name": "#%%\n"
    }
   },
   "outputs": [],
   "source": [
    "reduce_lr_on_plateau = callbacks.ReduceLROnPlateau(\n",
    "    monitor=\"val_loss\",\n",
    "    factor=0.15, # new_lr = lr * factor\n",
    "    patience=3,\n",
    "    min_lr=1e-5\n",
    ")"
   ]
  },
  {
   "cell_type": "markdown",
   "metadata": {
    "collapsed": false,
    "pycharm": {
     "name": "#%% md\n"
    }
   },
   "source": [
    "#### EarlyStopping\n",
    "\n",
    "Stops training when a monitored metric has stopped improving."
   ]
  },
  {
   "cell_type": "code",
   "execution_count": null,
   "metadata": {
    "collapsed": false,
    "pycharm": {
     "name": "#%%\n"
    }
   },
   "outputs": [],
   "source": [
    "early_stopping = callbacks.EarlyStopping(\n",
    "    monitor=\"val_loss\",\n",
    "    patience=12\n",
    ")"
   ]
  },
  {
   "cell_type": "markdown",
   "metadata": {
    "collapsed": false,
    "pycharm": {
     "name": "#%% md\n"
    }
   },
   "source": [
    "#### TensorBoard"
   ]
  },
  {
   "cell_type": "code",
   "execution_count": null,
   "metadata": {
    "collapsed": false,
    "pycharm": {
     "name": "#%%\n"
    }
   },
   "outputs": [],
   "source": [
    "tensorboard_callback = callbacks.TensorBoard(log_dir=log_dir, histogram_freq=1)"
   ]
  },
  {
   "cell_type": "markdown",
   "metadata": {
    "collapsed": false
   },
   "source": [
    "### Compile the model"
   ]
  },
  {
   "cell_type": "code",
   "execution_count": null,
   "metadata": {
    "collapsed": false,
    "pycharm": {
     "name": "#%%\n"
    }
   },
   "outputs": [],
   "source": [
    "model.compile(\n",
    "    optimizer=optimizers.Adam(learning_rate=1e-3),\n",
    "    loss=losses.BinaryCrossentropy(),\n",
    "    metrics=[\"accuracy\"]\n",
    ")"
   ]
  },
  {
   "cell_type": "markdown",
   "metadata": {
    "collapsed": false
   },
   "source": [
    "### Train the model"
   ]
  },
  {
   "cell_type": "code",
   "execution_count": null,
   "metadata": {
    "collapsed": false,
    "pycharm": {
     "name": "#%%\n"
    }
   },
   "outputs": [],
   "source": [
    "epochs = 150\n",
    "\n",
    "# try:\n",
    "history = model.fit(\n",
    "    train_ds,\n",
    "    steps_per_epoch=train_ds_steps,\n",
    "    validation_data=val_ds,\n",
    "    validation_steps=val_ds_steps,\n",
    "    class_weight=weights,\n",
    "    epochs=epochs,\n",
    "    callbacks=[\n",
    "        # histories,\n",
    "        tensorboard_callback,\n",
    "        reduce_lr_on_plateau,\n",
    "        early_stopping\n",
    "    ]\n",
    ")\n",
    "\n",
    "# except:\n",
    "#     histories.sendCrash()"
   ]
  },
  {
   "cell_type": "code",
   "execution_count": null,
   "metadata": {
    "collapsed": false,
    "pycharm": {
     "name": "#%%\n"
    }
   },
   "outputs": [],
   "source": [
    "acc = history.history['accuracy']\n",
    "val_acc = history.history['val_accuracy']\n",
    "\n",
    "loss = history.history['loss']\n",
    "val_loss = history.history['val_loss']\n",
    "\n",
    "epochs_range = range(epochs)\n",
    "\n",
    "plt.figure(figsize=(20, 8))\n",
    "plt.subplot(1, 2, 1)\n",
    "plt.plot(epochs_range, acc, label='Training Accuracy')\n",
    "plt.plot(epochs_range, val_acc, label='Validation Accuracy')\n",
    "plt.legend(loc='lower right')\n",
    "plt.title('Training and Validation Accuracy')\n",
    "\n",
    "plt.subplot(1, 2, 2)\n",
    "plt.plot(epochs_range, loss, label='Training Loss')\n",
    "plt.plot(epochs_range, val_loss, label='Validation Loss')\n",
    "plt.legend(loc='upper right')\n",
    "plt.title('Training and Validation Loss')\n",
    "plt.show()"
   ]
  }
 ],
 "metadata": {
  "kernelspec": {
   "display_name": "Python 3.7.7 64-bit ('tf': conda)",
   "language": "python",
   "name": "python37764bittfconda2448f6f2b6ec4969b618bd5b5691b026"
  },
  "language_info": {
   "codemirror_mode": {
    "name": "ipython",
    "version": 3
   },
   "file_extension": ".py",
   "mimetype": "text/x-python",
   "name": "python",
   "nbconvert_exporter": "python",
   "pygments_lexer": "ipython3",
   "version": "3.8.5-final"
  },
  "orig_nbformat": 2
 },
 "nbformat": 4,
 "nbformat_minor": 2
}
